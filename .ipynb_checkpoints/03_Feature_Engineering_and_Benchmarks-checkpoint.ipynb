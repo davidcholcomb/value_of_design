{
 "cells": [
  {
   "cell_type": "markdown",
   "metadata": {},
   "source": [
    "# Establishing a benchmark"
   ]
  },
  {
   "cell_type": "markdown",
   "metadata": {},
   "source": [
    "### Imports"
   ]
  },
  {
   "cell_type": "code",
   "execution_count": 1,
   "metadata": {},
   "outputs": [],
   "source": [
    "import pandas as pd\n",
    "import numpy as np\n",
    "import matplotlib.pyplot as plt\n",
    "import seaborn as sns\n",
    "\n",
    "from sklearn.linear_model import LinearRegression, Lasso, LassoCV\n",
    "from sklearn.metrics import mean_squared_error\n",
    "from sklearn.model_selection import train_test_split, cross_val_score\n",
    "\n",
    "\n",
    "pd.set_option('display.max_rows', None)\n",
    "pd.set_option('display.max_columns', None)"
   ]
  },
  {
   "cell_type": "code",
   "execution_count": 2,
   "metadata": {},
   "outputs": [],
   "source": [
    "from sklearn.feature_selection import SelectFromModel\n",
    "from sklearn.preprocessing import StandardScaler"
   ]
  },
  {
   "cell_type": "code",
   "execution_count": 3,
   "metadata": {},
   "outputs": [],
   "source": [
    "df_train = pd.read_csv('./datasets/train_clean.csv')\n",
    "df_test = pd.read_csv('./datasets/test_clean.csv')"
   ]
  },
  {
   "cell_type": "markdown",
   "metadata": {},
   "source": [
    "**Lot Frontage** : Could be linear  \n",
    "**Lot Area** : Appears to be linear  \n",
    "**Year Built** : Seems to start more linear but then the graph curves up more exponentially at the end  \n",
    "**Year Remodel** : Could be linear or more exponential at the end  \n",
    "**Basement Finish SF** : Seems to be exponential, possibly linear. Will run tests.  \n",
    "**Basement Finish SF 2** : Seems to be linear. Will run tests.   \n",
    "**Total Basement SF** : Looks to be exponential  \n",
    "**1st Floor SF** : Possibly linear, will run tests.    \n",
    "**2nd Flr SF** : Possibly linear, will run tests.  \n",
    "**Garage Living Area** : Looks exponential  \n",
    "**Garage Year Built** : Looks exponential  \n",
    "**Garage Area** : Could be linear  \n",
    "**Wood Deck** : Could be exponential  \n",
    "**Enclosed Porch** : Looks linear   \n",
    "**Overall Qual** : Could be exponential"
   ]
  },
  {
   "cell_type": "code",
   "execution_count": 4,
   "metadata": {
    "scrolled": true
   },
   "outputs": [
    {
     "name": "stderr",
     "output_type": "stream",
     "text": [
      "C:\\Users\\kendr\\anaconda3\\lib\\site-packages\\pandas\\core\\frame.py:4163: SettingWithCopyWarning: \n",
      "A value is trying to be set on a copy of a slice from a DataFrame\n",
      "\n",
      "See the caveats in the documentation: https://pandas.pydata.org/pandas-docs/stable/user_guide/indexing.html#returning-a-view-versus-a-copy\n",
      "  return super().drop(\n"
     ]
    }
   ],
   "source": [
    "corr = df_train.corr()\n",
    "high_corr = corr[abs(corr['SalePrice']) > 0.3]\n",
    "high_corr.drop(columns = ['SalePrice', 'Id', 'Pool Area', 'Misc Val'], inplace = True)"
   ]
  },
  {
   "cell_type": "code",
   "execution_count": 5,
   "metadata": {
    "scrolled": true
   },
   "outputs": [],
   "source": [
    "high_corr.columns.sort_values()\n",
    "\n",
    "df_train['BsmtFin SF 1 **2'] = df_train['BsmtFin SF 1'] **2\n",
    "\n",
    "df_train['Total Bsmt SF **2'] = df_train['Total Bsmt SF'] **2\n",
    "\n",
    "df_train['Gr Liv Area **2'] = df_train['Gr Liv Area'] **2\n",
    "\n",
    "df_train['Garage Yr Blt **2'] = df_train['Garage Yr Blt'] **2\n",
    "\n",
    "df_train['Overall Qual **2'] = df_train['Overall Qual'] **2"
   ]
  },
  {
   "cell_type": "code",
   "execution_count": 6,
   "metadata": {
    "scrolled": true
   },
   "outputs": [],
   "source": [
    "\n",
    "df_test['BsmtFin SF 1 **2'] = df_test['BsmtFin SF 1'] **2\n",
    "\n",
    "df_test['Total Bsmt SF **2'] = df_test['Total Bsmt SF'] **2\n",
    "\n",
    "df_test['Gr Liv Area **2'] = df_test['Gr Liv Area'] **2\n",
    "\n",
    "df_test['Garage Yr Blt **2'] = df_test['Garage Yr Blt'] **2\n",
    "\n",
    "df_test['Overall Qual **2'] = df_test['Overall Qual'] **2"
   ]
  },
  {
   "cell_type": "code",
   "execution_count": 7,
   "metadata": {
    "scrolled": true
   },
   "outputs": [],
   "source": [
    "feature_list = [i for i in high_corr.columns]"
   ]
  },
  {
   "cell_type": "code",
   "execution_count": 8,
   "metadata": {},
   "outputs": [],
   "source": [
    "for col in df_train.columns:\n",
    "    if '**' in col:\n",
    "        feature_list.append(col)"
   ]
  },
  {
   "cell_type": "code",
   "execution_count": 9,
   "metadata": {},
   "outputs": [],
   "source": [
    "feature_list;"
   ]
  },
  {
   "cell_type": "code",
   "execution_count": 10,
   "metadata": {},
   "outputs": [],
   "source": [
    "X = df_train[feature_list]\n",
    "y = df_train['SalePrice']\n",
    "\n",
    "X_train, X_test, y_train, y_test = train_test_split(X,y, random_state= 21)"
   ]
  },
  {
   "cell_type": "code",
   "execution_count": 11,
   "metadata": {},
   "outputs": [],
   "source": [
    "lr = LinearRegression()"
   ]
  },
  {
   "cell_type": "code",
   "execution_count": 12,
   "metadata": {},
   "outputs": [
    {
     "data": {
      "text/plain": [
       "LinearRegression()"
      ]
     },
     "execution_count": 12,
     "metadata": {},
     "output_type": "execute_result"
    }
   ],
   "source": [
    "lr.fit(X_train,y_train)"
   ]
  },
  {
   "cell_type": "code",
   "execution_count": 13,
   "metadata": {},
   "outputs": [
    {
     "data": {
      "text/plain": [
       "(0.900516423717245, 0.8697716588608976)"
      ]
     },
     "execution_count": 13,
     "metadata": {},
     "output_type": "execute_result"
    }
   ],
   "source": [
    "lr.score(X_train, y_train), lr.score(X_test, y_test)"
   ]
  },
  {
   "cell_type": "code",
   "execution_count": 14,
   "metadata": {
    "scrolled": false
   },
   "outputs": [
    {
     "data": {
      "text/plain": [
       "array([0.90625598, 0.88262192, 0.02824728, 0.90701577, 0.85515358])"
      ]
     },
     "execution_count": 14,
     "metadata": {},
     "output_type": "execute_result"
    }
   ],
   "source": [
    "cross_val_score(lr, X_train, y_train, cv=5)"
   ]
  },
  {
   "cell_type": "code",
   "execution_count": 15,
   "metadata": {},
   "outputs": [
    {
     "data": {
      "text/plain": [
       "28016.11256154095"
      ]
     },
     "execution_count": 15,
     "metadata": {},
     "output_type": "execute_result"
    }
   ],
   "source": [
    "predictions = lr.predict(X_test)\n",
    "np.sqrt(mean_squared_error(y_test, predictions))"
   ]
  },
  {
   "cell_type": "markdown",
   "metadata": {},
   "source": [
    "### Comments on this Linear Regression Score:\n",
    "\n",
    "The bias is very high and the R2 score from train to test looks pretty good. Only a dropoff from 0.9 to 0.86. **However,** looking at the cross val score, ouch that variance really is apparent. Scores of 0.90, 0.88, 0.02, 0.90 & 0.86 should be more consistent across the board.\n",
    "\n",
    "The RMSE of about \\\\$28,000 looks pretty good as a starting point though.\n",
    "\n",
    "I will go through the set to look for outliers to see if that fixes the issue."
   ]
  },
  {
   "cell_type": "code",
   "execution_count": 16,
   "metadata": {},
   "outputs": [
    {
     "data": {
      "text/plain": [
       "Index(['1st Flr SF', '2nd Flr SF', '3Ssn Porch', 'Alley', 'Bedroom AbvGr',\n",
       "       'Bldg Type', 'Bsmt Cond', 'Bsmt Exposure', 'Bsmt Full Bath',\n",
       "       'Bsmt Half Bath', 'Bsmt Qual', 'Bsmt Unf SF', 'BsmtFin SF 1',\n",
       "       'BsmtFin SF 1 **2', 'BsmtFin SF 2', 'BsmtFin Type 1', 'BsmtFin Type 2',\n",
       "       'Central Air', 'Condition 1', 'Condition 2', 'Electrical',\n",
       "       'Enclosed Porch', 'Exter Cond', 'Exter Qual', 'Exterior 1st',\n",
       "       'Exterior 2nd', 'Fence', 'Fireplace Qu', 'Fireplaces', 'Foundation',\n",
       "       'Full Bath', 'Functional', 'Garage Area', 'Garage Cars', 'Garage Cond',\n",
       "       'Garage Finish', 'Garage Qual', 'Garage Type', 'Garage Yr Blt',\n",
       "       'Garage Yr Blt **2', 'Gr Liv Area', 'Gr Liv Area **2', 'Half Bath',\n",
       "       'Heating', 'Heating QC', 'House Style', 'Id', 'Kitchen AbvGr',\n",
       "       'Kitchen Qual', 'Land Contour', 'Land Slope', 'Lot Area', 'Lot Config',\n",
       "       'Lot Frontage', 'Lot Shape', 'Low Qual Fin SF', 'MS SubClass',\n",
       "       'MS Zoning', 'Mas Vnr Area', 'Mas Vnr Type', 'Misc Feature', 'Misc Val',\n",
       "       'Mo Sold', 'Neighborhood', 'Open Porch SF', 'Overall Cond',\n",
       "       'Overall Qual', 'Overall Qual **2', 'PID', 'Paved Drive', 'Pool Area',\n",
       "       'Pool QC', 'Roof Matl', 'Roof Style', 'Sale Type', 'SalePrice',\n",
       "       'Screen Porch', 'Street', 'TotRms AbvGrd', 'Total Bsmt SF',\n",
       "       'Total Bsmt SF **2', 'Utilities', 'Wood Deck SF', 'Year Built',\n",
       "       'Year Remod/Add', 'Yr Sold'],\n",
       "      dtype='object')"
      ]
     },
     "execution_count": 16,
     "metadata": {},
     "output_type": "execute_result"
    }
   ],
   "source": [
    "df_train.columns.sort_values()"
   ]
  },
  {
   "cell_type": "code",
   "execution_count": 17,
   "metadata": {},
   "outputs": [
    {
     "data": {
      "text/plain": [
       "Text(0, 0.5, 'Sale Price\\n')"
      ]
     },
     "execution_count": 17,
     "metadata": {},
     "output_type": "execute_result"
    },
    {
     "data": {
      "image/png": "[encoded data removed]",
      "text/plain": [
       "<Figure size 432x288 with 1 Axes>"
      ]
     },
     "metadata": {
      "needs_background": "light"
     },
     "output_type": "display_data"
    }
   ],
   "source": [
    "#inspired by https://www.kaggle.com/juliencs/a-study-on-regression-applied-to-the-ames-dataset\n",
    "\n",
    "plt.scatter(df_train['Gr Liv Area'], df_train['SalePrice'], color = \"blue\", alpha = 0.5)\n",
    "plt.title(\"Looking for outliers\\n\", fontsize = 18)\n",
    "plt.xlabel(\"\\nAbove Grade Living Area (sq ft)\", fontsize = 13)\n",
    "plt.ylabel(\"Sale Price\\n\", fontsize = 13)\n"
   ]
  },
  {
   "cell_type": "markdown",
   "metadata": {},
   "source": [
    "It looks like there are a couple outliers in the set with over 5000 sq ft that sold for right around or a little under \\\\$200,000. I will drop those from the training data."
   ]
  },
  {
   "cell_type": "code",
   "execution_count": 18,
   "metadata": {},
   "outputs": [],
   "source": [
    "df_train = df_train[df_train['Gr Liv Area'] < 5000]"
   ]
  },
  {
   "cell_type": "code",
   "execution_count": 19,
   "metadata": {},
   "outputs": [
    {
     "data": {
      "text/plain": [
       "Text(0, 0.5, 'Sale Price\\n')"
      ]
     },
     "execution_count": 19,
     "metadata": {},
     "output_type": "execute_result"
    },
    {
     "data": {
      "image/png": "[encoded data removed]",
      "text/plain": [
       "<Figure size 432x288 with 1 Axes>"
      ]
     },
     "metadata": {
      "needs_background": "light"
     },
     "output_type": "display_data"
    }
   ],
   "source": [
    "plt.scatter(df_train['Gr Liv Area'], df_train['SalePrice'], color = \"blue\", alpha = 0.5)\n",
    "plt.title(\"Looking for outliers\\n\", fontsize = 18)\n",
    "plt.xlabel(\"\\nAbove Grade Living Area (sq ft)\", fontsize = 13)\n",
    "plt.ylabel(\"Sale Price\\n\", fontsize = 13)\n"
   ]
  },
  {
   "cell_type": "markdown",
   "metadata": {},
   "source": [
    "Outliers are removed. Now let's see if that affected the variance issue from before."
   ]
  },
  {
   "cell_type": "code",
   "execution_count": 20,
   "metadata": {},
   "outputs": [
    {
     "data": {
      "text/plain": [
       "LinearRegression()"
      ]
     },
     "execution_count": 20,
     "metadata": {},
     "output_type": "execute_result"
    }
   ],
   "source": [
    "X = df_train[feature_list]\n",
    "y = df_train['SalePrice']\n",
    "\n",
    "X_train, X_test, y_train, y_test = train_test_split(X,y, random_state= 21)\n",
    "\n",
    "lr = LinearRegression()\n",
    "\n",
    "lr.fit(X_train,y_train)"
   ]
  },
  {
   "cell_type": "code",
   "execution_count": 21,
   "metadata": {},
   "outputs": [
    {
     "data": {
      "text/plain": [
       "(0.9105348428540365, 0.9259742740603587)"
      ]
     },
     "execution_count": 21,
     "metadata": {},
     "output_type": "execute_result"
    }
   ],
   "source": [
    "lr.score(X_train, y_train), lr.score(X_test, y_test)"
   ]
  },
  {
   "cell_type": "code",
   "execution_count": 22,
   "metadata": {},
   "outputs": [
    {
     "data": {
      "text/plain": [
       "array([0.90035663, 0.89905159, 0.90675215, 0.90052206, 0.8891976 ])"
      ]
     },
     "execution_count": 22,
     "metadata": {},
     "output_type": "execute_result"
    }
   ],
   "source": [
    "cross_val_score(lr, X_train, y_train, cv=5)"
   ]
  },
  {
   "cell_type": "code",
   "execution_count": 23,
   "metadata": {},
   "outputs": [
    {
     "data": {
      "text/plain": [
       "0.8991760064010299"
      ]
     },
     "execution_count": 23,
     "metadata": {},
     "output_type": "execute_result"
    }
   ],
   "source": [
    "cross_val_score(lr, X_train, y_train, cv=5).mean()"
   ]
  },
  {
   "cell_type": "code",
   "execution_count": 24,
   "metadata": {},
   "outputs": [
    {
     "data": {
      "text/plain": [
       "0.005660173443183285"
      ]
     },
     "execution_count": 24,
     "metadata": {},
     "output_type": "execute_result"
    }
   ],
   "source": [
    "cross_val_score(lr, X_train, y_train, cv=5).std()"
   ]
  },
  {
   "cell_type": "code",
   "execution_count": 25,
   "metadata": {
    "scrolled": true
   },
   "outputs": [
    {
     "data": {
      "text/plain": [
       "21479.180381416332"
      ]
     },
     "execution_count": 25,
     "metadata": {},
     "output_type": "execute_result"
    }
   ],
   "source": [
    "predictions = lr.predict(X_test)\n",
    "np.sqrt(mean_squared_error(y_test, predictions))"
   ]
  },
  {
   "cell_type": "markdown",
   "metadata": {},
   "source": [
    "### Issue seems to be fixed.\n",
    "\n",
    "The model went from cross val scores of \\[0.90, 0.88, 0.02, 0.90 & 0.86] to \\[0.90, 0.899, 0.90, 0.90, 0.89].   \n",
    "\n",
    "The RMSE also went down to about \\\\$21,500. \n",
    "\n",
    "I will go ahead and save this csv file, make predictions to kaggle and explore the features further."
   ]
  },
  {
   "cell_type": "code",
   "execution_count": 26,
   "metadata": {},
   "outputs": [
    {
     "data": {
      "text/plain": [
       "array([-6.26098345e-08, -9.25105929e+01, -9.19742805e+01,  1.26647502e+00,\n",
       "       -2.71641103e+04,  7.87539636e+03,  4.11834908e+02,  1.31167090e+02,\n",
       "        1.57502018e+01, -5.60061362e+03,  3.68413371e+03,  2.83053388e+00,\n",
       "        8.41049277e+00,  1.47557086e+00,  1.27165979e+01,  2.59691462e+00,\n",
       "        1.56759881e+01, -2.68930264e+01, -8.62012314e+00,  2.92941750e+03,\n",
       "       -3.45626015e+03,  3.06241511e+03, -7.22053085e+02, -3.45690116e+03,\n",
       "       -1.55493225e+04,  3.00869578e+03,  7.73246927e+03, -6.41711282e+02,\n",
       "       -1.88380943e+01,  2.63307338e+03, -4.23930166e+02,  2.23950349e+01,\n",
       "        3.31283718e-01, -1.44444568e-01,  3.64464326e+01,  4.91954248e+01,\n",
       "        6.68211765e+01,  3.72740923e+02, -7.63104468e+02,  1.38205971e-02,\n",
       "        6.96131859e-03,  1.19585901e-02,  8.08773120e-03,  3.42785617e+03])"
      ]
     },
     "execution_count": 26,
     "metadata": {},
     "output_type": "execute_result"
    }
   ],
   "source": [
    "lr.coef_"
   ]
  },
  {
   "cell_type": "code",
   "execution_count": 27,
   "metadata": {},
   "outputs": [],
   "source": [
    "coef_dictionary = dict(zip(X_test, lr.coef_))"
   ]
  },
  {
   "cell_type": "code",
   "execution_count": 28,
   "metadata": {},
   "outputs": [
    {
     "data": {
      "text/plain": [
       "{'PID': -6.260983452531837e-08,\n",
       " 'MS SubClass': -92.51059294396131,\n",
       " 'Lot Frontage': -91.97428054187574,\n",
       " 'Lot Area': 1.2664750247654155,\n",
       " 'Overall Qual': -27164.110324614565,\n",
       " 'Overall Cond': 7875.396360550608,\n",
       " 'Year Built': 411.83490754157145,\n",
       " 'Year Remod/Add': 131.16708961864035,\n",
       " 'Mas Vnr Area': 15.750201832948976,\n",
       " 'Bsmt Qual': -5600.613624372852,\n",
       " 'Bsmt Cond': 3684.1337073024893,\n",
       " 'BsmtFin SF 1': 2.830533878529213,\n",
       " 'BsmtFin SF 2': 8.410492772645272,\n",
       " 'Bsmt Unf SF': 1.4755708569078105,\n",
       " 'Total Bsmt SF': 12.716597873355427,\n",
       " '1st Flr SF': 2.5969146156113565,\n",
       " '2nd Flr SF': 15.67598808381121,\n",
       " 'Low Qual Fin SF': -26.89302635926002,\n",
       " 'Gr Liv Area': -8.620123137323548,\n",
       " 'Bsmt Full Bath': 2929.417502916136,\n",
       " 'Bsmt Half Bath': -3456.2601455746717,\n",
       " 'Full Bath': 3062.415105299174,\n",
       " 'Half Bath': -722.0530846454487,\n",
       " 'Bedroom AbvGr': -3456.90116309498,\n",
       " 'Kitchen AbvGr': -15549.322548824235,\n",
       " 'TotRms AbvGrd': 3008.6957760661694,\n",
       " 'Fireplaces': 7732.469274858044,\n",
       " 'Fireplace Qu': -641.7112822043183,\n",
       " 'Garage Yr Blt': -18.83809434720108,\n",
       " 'Garage Finish': 2633.0733848825694,\n",
       " 'Garage Cars': -423.9301656663455,\n",
       " 'Garage Area': 22.395034883685945,\n",
       " 'Wood Deck SF': 0.3312837177190963,\n",
       " 'Open Porch SF': -0.1444445683358779,\n",
       " 'Enclosed Porch': 36.44643261569694,\n",
       " '3Ssn Porch': 49.19542482924901,\n",
       " 'Screen Porch': 66.82117645396441,\n",
       " 'Mo Sold': 372.74092310464897,\n",
       " 'Yr Sold': -763.1044675161705,\n",
       " 'BsmtFin SF 1 **2': 0.013820597095719478,\n",
       " 'Total Bsmt SF **2': 0.006961318594143506,\n",
       " 'Gr Liv Area **2': 0.011958590095510147,\n",
       " 'Garage Yr Blt **2': 0.008087731199523773,\n",
       " 'Overall Qual **2': 3427.8561726810326}"
      ]
     },
     "execution_count": 28,
     "metadata": {},
     "output_type": "execute_result"
    }
   ],
   "source": [
    "coef_dictionary"
   ]
  },
  {
   "cell_type": "code",
   "execution_count": 29,
   "metadata": {},
   "outputs": [],
   "source": [
    "# pd.DataFrame.from_dict(data = coef_dictionary, orient = {'columns' : 'index'})\n",
    "coef_df = pd.DataFrame.from_dict(data = coef_dictionary, orient='index',\n",
    "                       columns=['Coefficients'])"
   ]
  },
  {
   "cell_type": "code",
   "execution_count": 30,
   "metadata": {},
   "outputs": [
    {
     "data": {
      "text/plain": [
       "''"
      ]
     },
     "execution_count": 30,
     "metadata": {},
     "output_type": "execute_result"
    },
    {
     "data": {
      "text/plain": [
       "<Figure size 1512x720 with 0 Axes>"
      ]
     },
     "metadata": {},
     "output_type": "display_data"
    },
    {
     "data": {
      "image/png": "[encoded data removed]",
      "text/plain": [
       "<Figure size 432x288 with 1 Axes>"
      ]
     },
     "metadata": {
      "needs_background": "light"
     },
     "output_type": "display_data"
    }
   ],
   "source": [
    "#Inspired by https://medium.com/analytics-vidhya/create-your-own-coefficient-plot-function-in-python-aadb9fe27a77\n",
    "sns.set_context(\"paper\")\n",
    "# sns.scatterplot(x = coef_dictionary.keys(), y = coef_dictionary.values())\n",
    "# coef_df.plot\n",
    "plt.figure(figsize = (21,10))\n",
    "coef_df.plot( kind='bar',\n",
    "                 color='red', fontsize=6, \n",
    "                 ecolor='steelblue',capsize=0,\n",
    "                  legend=False);\n",
    "plt.title('Coefficient Values', fontsize = 12)\n",
    "plt.axhline(y=0, linestyle='--', color='red', linewidth=1)\n",
    "plt.axhline(y=5000, linestyle=':', color='grey', linewidth=0.25)\n",
    "plt.axhline(y=-5000, linestyle=':', color='grey', linewidth=0.25)\n",
    "plt.axhline(y=-10000, linestyle=':', color='grey', linewidth=0.25)\n",
    "plt.axhline(y=-15000, linestyle=':', color='grey', linewidth=0.25)\n",
    "plt.axhline(y=-20000, linestyle=':', color='grey', linewidth=0.25)\n",
    "plt.axhline(y=-25000, linestyle=':', color='grey', linewidth=0.25)\n",
    "plt.ylabel('Coefficient Value in $')\n",
    "plt.xlabel('Feature Name')\n",
    ";"
   ]
  },
  {
   "cell_type": "markdown",
   "metadata": {},
   "source": [
    "## Save this csv and submit to kaggle"
   ]
  },
  {
   "cell_type": "code",
   "execution_count": 31,
   "metadata": {},
   "outputs": [],
   "source": [
    "df_train.to_csv('./datasets/train_clean_outlier.csv', index = False)"
   ]
  },
  {
   "cell_type": "code",
   "execution_count": 32,
   "metadata": {
    "scrolled": true
   },
   "outputs": [],
   "source": [
    "X_kaggle = df_test[feature_list]"
   ]
  },
  {
   "cell_type": "code",
   "execution_count": 33,
   "metadata": {},
   "outputs": [
    {
     "data": {
      "text/plain": [
       "((878, 2), (878, 85))"
      ]
     },
     "execution_count": 33,
     "metadata": {},
     "output_type": "execute_result"
    }
   ],
   "source": [
    "X_kaggle = df_test[feature_list]\n",
    "kaggle_predictions = lr.predict(X_kaggle)\n",
    "kaggle_submission = pd.DataFrame()\n",
    "\n",
    "kaggle_submission['Id'] = df_test['Id']\n",
    "kaggle_submission['SalePrice'] = kaggle_predictions\n",
    "\n",
    "kaggle_submission.head()\n",
    "kaggle_submission.shape, df_test.shape"
   ]
  },
  {
   "cell_type": "code",
   "execution_count": 34,
   "metadata": {},
   "outputs": [],
   "source": [
    "kaggle_submission.to_csv('./kaggle/kaggle_submission_04.csv', index=False)"
   ]
  },
  {
   "cell_type": "markdown",
   "metadata": {},
   "source": [
    "## Extracting coefficients to see which features are contributing the most"
   ]
  },
  {
   "cell_type": "code",
   "execution_count": 35,
   "metadata": {},
   "outputs": [],
   "source": [
    "coef_dict = dict(zip(X_train.columns, lr.coef_))"
   ]
  },
  {
   "cell_type": "code",
   "execution_count": 36,
   "metadata": {
    "scrolled": true
   },
   "outputs": [
    {
     "data": {
      "text/plain": [
       "{'PID': -6.260983452531837e-08,\n",
       " 'MS SubClass': -92.51059294396131,\n",
       " 'Lot Frontage': -91.97428054187574,\n",
       " 'Lot Area': 1.2664750247654155,\n",
       " 'Overall Qual': -27164.110324614565,\n",
       " 'Overall Cond': 7875.396360550608,\n",
       " 'Year Built': 411.83490754157145,\n",
       " 'Year Remod/Add': 131.16708961864035,\n",
       " 'Mas Vnr Area': 15.750201832948976,\n",
       " 'Bsmt Qual': -5600.613624372852,\n",
       " 'Bsmt Cond': 3684.1337073024893,\n",
       " 'BsmtFin SF 1': 2.830533878529213,\n",
       " 'BsmtFin SF 2': 8.410492772645272,\n",
       " 'Bsmt Unf SF': 1.4755708569078105,\n",
       " 'Total Bsmt SF': 12.716597873355427,\n",
       " '1st Flr SF': 2.5969146156113565,\n",
       " '2nd Flr SF': 15.67598808381121,\n",
       " 'Low Qual Fin SF': -26.89302635926002,\n",
       " 'Gr Liv Area': -8.620123137323548,\n",
       " 'Bsmt Full Bath': 2929.417502916136,\n",
       " 'Bsmt Half Bath': -3456.2601455746717,\n",
       " 'Full Bath': 3062.415105299174,\n",
       " 'Half Bath': -722.0530846454487,\n",
       " 'Bedroom AbvGr': -3456.90116309498,\n",
       " 'Kitchen AbvGr': -15549.322548824235,\n",
       " 'TotRms AbvGrd': 3008.6957760661694,\n",
       " 'Fireplaces': 7732.469274858044,\n",
       " 'Fireplace Qu': -641.7112822043183,\n",
       " 'Garage Yr Blt': -18.83809434720108,\n",
       " 'Garage Finish': 2633.0733848825694,\n",
       " 'Garage Cars': -423.9301656663455,\n",
       " 'Garage Area': 22.395034883685945,\n",
       " 'Wood Deck SF': 0.3312837177190963,\n",
       " 'Open Porch SF': -0.1444445683358779,\n",
       " 'Enclosed Porch': 36.44643261569694,\n",
       " '3Ssn Porch': 49.19542482924901,\n",
       " 'Screen Porch': 66.82117645396441,\n",
       " 'Mo Sold': 372.74092310464897,\n",
       " 'Yr Sold': -763.1044675161705,\n",
       " 'BsmtFin SF 1 **2': 0.013820597095719478,\n",
       " 'Total Bsmt SF **2': 0.006961318594143506,\n",
       " 'Gr Liv Area **2': 0.011958590095510147,\n",
       " 'Garage Yr Blt **2': 0.008087731199523773,\n",
       " 'Overall Qual **2': 3427.8561726810326}"
      ]
     },
     "execution_count": 36,
     "metadata": {},
     "output_type": "execute_result"
    }
   ],
   "source": [
    "coef_dict"
   ]
  },
  {
   "cell_type": "markdown",
   "metadata": {},
   "source": [
    "For each feature, every increase of 1 unit of the feature, we could expect the Sale Price to move up by it's respective coefficient in dollars. Because there are many features that are not contributing much to the overall Sales Price, I will filter out the features that contribute less than a \\\\$100 move per increase in feature unit."
   ]
  },
  {
   "cell_type": "code",
   "execution_count": 37,
   "metadata": {},
   "outputs": [],
   "source": [
    "X_coefs = [i for i in coef_dict if abs(coef_dict[i]) > 100]"
   ]
  },
  {
   "cell_type": "code",
   "execution_count": 38,
   "metadata": {},
   "outputs": [],
   "source": [
    "feature_list_coefs = []\n",
    "for key in X_coefs:\n",
    "    feature_list_coefs.append(key)"
   ]
  },
  {
   "cell_type": "code",
   "execution_count": 39,
   "metadata": {},
   "outputs": [
    {
     "data": {
      "text/plain": [
       "['Overall Qual',\n",
       " 'Overall Cond',\n",
       " 'Year Built',\n",
       " 'Year Remod/Add',\n",
       " 'Bsmt Qual',\n",
       " 'Bsmt Cond',\n",
       " 'Bsmt Full Bath',\n",
       " 'Bsmt Half Bath',\n",
       " 'Full Bath',\n",
       " 'Half Bath',\n",
       " 'Bedroom AbvGr',\n",
       " 'Kitchen AbvGr',\n",
       " 'TotRms AbvGrd',\n",
       " 'Fireplaces',\n",
       " 'Fireplace Qu',\n",
       " 'Garage Finish',\n",
       " 'Garage Cars',\n",
       " 'Mo Sold',\n",
       " 'Yr Sold',\n",
       " 'Overall Qual **2']"
      ]
     },
     "execution_count": 39,
     "metadata": {},
     "output_type": "execute_result"
    }
   ],
   "source": [
    "feature_list_coefs"
   ]
  },
  {
   "cell_type": "code",
   "execution_count": 40,
   "metadata": {},
   "outputs": [],
   "source": [
    "X = df_train[feature_list_coefs]\n",
    "y = df_train['SalePrice']\n",
    "\n",
    "X_train, X_test, y_train, y_test = train_test_split(X,y, random_state= 21)\n",
    "\n",
    "lr = LinearRegression()"
   ]
  },
  {
   "cell_type": "code",
   "execution_count": 41,
   "metadata": {},
   "outputs": [
    {
     "data": {
      "text/plain": [
       "LinearRegression()"
      ]
     },
     "execution_count": 41,
     "metadata": {},
     "output_type": "execute_result"
    }
   ],
   "source": [
    "lr.fit(X_train,y_train)"
   ]
  },
  {
   "cell_type": "code",
   "execution_count": 42,
   "metadata": {},
   "outputs": [
    {
     "data": {
      "text/plain": [
       "(0.8417927132982431, 0.840170680480927)"
      ]
     },
     "execution_count": 42,
     "metadata": {},
     "output_type": "execute_result"
    }
   ],
   "source": [
    "lr.score(X_train, y_train), lr.score(X_test, y_test)"
   ]
  },
  {
   "cell_type": "code",
   "execution_count": 43,
   "metadata": {},
   "outputs": [
    {
     "data": {
      "text/plain": [
       "array([0.84533937, 0.81625135, 0.83875736, 0.83891641, 0.83009989])"
      ]
     },
     "execution_count": 43,
     "metadata": {},
     "output_type": "execute_result"
    }
   ],
   "source": [
    "cross_val_score(lr, X_train, y_train, cv=5)"
   ]
  },
  {
   "cell_type": "code",
   "execution_count": 44,
   "metadata": {},
   "outputs": [
    {
     "data": {
      "text/plain": [
       "0.8338728766727277"
      ]
     },
     "execution_count": 44,
     "metadata": {},
     "output_type": "execute_result"
    }
   ],
   "source": [
    "cross_val_score(lr, X_train, y_train, cv=5).mean()"
   ]
  },
  {
   "cell_type": "code",
   "execution_count": 45,
   "metadata": {},
   "outputs": [
    {
     "data": {
      "text/plain": [
       "0.010055144078325487"
      ]
     },
     "execution_count": 45,
     "metadata": {},
     "output_type": "execute_result"
    }
   ],
   "source": [
    "cross_val_score(lr, X_train, y_train, cv=5).std()"
   ]
  },
  {
   "cell_type": "code",
   "execution_count": 46,
   "metadata": {},
   "outputs": [],
   "source": [
    "predictions = lr.predict(X_test)"
   ]
  },
  {
   "cell_type": "code",
   "execution_count": 47,
   "metadata": {
    "scrolled": true
   },
   "outputs": [
    {
     "data": {
      "text/plain": [
       "31561.278892513423"
      ]
     },
     "execution_count": 47,
     "metadata": {},
     "output_type": "execute_result"
    }
   ],
   "source": [
    "np.sqrt(mean_squared_error(y_test, predictions))"
   ]
  },
  {
   "cell_type": "markdown",
   "metadata": {},
   "source": [
    "## Comments on this attempt\n",
    "\n",
    "The RMSE increased by about \\\\$10,000 and eliminating the outliers in the previous step seemed to handle the variance issue more than removing features."
   ]
  },
  {
   "cell_type": "markdown",
   "metadata": {},
   "source": [
    "### Kaggle Submissions"
   ]
  },
  {
   "cell_type": "code",
   "execution_count": 48,
   "metadata": {},
   "outputs": [],
   "source": [
    "X_kaggle = df_test[feature_list_coefs]"
   ]
  },
  {
   "cell_type": "code",
   "execution_count": 49,
   "metadata": {},
   "outputs": [
    {
     "data": {
      "text/plain": [
       "((878, 2), (878, 85))"
      ]
     },
     "execution_count": 49,
     "metadata": {},
     "output_type": "execute_result"
    }
   ],
   "source": [
    "X_kaggle = df_test[feature_list_coefs]\n",
    "kaggle_predictions = lr.predict(X_kaggle)\n",
    "kaggle_submission = pd.DataFrame()\n",
    "\n",
    "kaggle_submission['Id'] = df_test['Id']\n",
    "kaggle_submission['SalePrice'] = kaggle_predictions\n",
    "\n",
    "kaggle_submission.head()\n",
    "kaggle_submission.shape, df_test.shape"
   ]
  },
  {
   "cell_type": "code",
   "execution_count": 50,
   "metadata": {},
   "outputs": [
    {
     "data": {
      "text/plain": [
       "(878, 20)"
      ]
     },
     "execution_count": 50,
     "metadata": {},
     "output_type": "execute_result"
    }
   ],
   "source": [
    "X_kaggle.shape"
   ]
  },
  {
   "cell_type": "code",
   "execution_count": 51,
   "metadata": {},
   "outputs": [
    {
     "data": {
      "text/plain": [
       "(1536, 20)"
      ]
     },
     "execution_count": 51,
     "metadata": {},
     "output_type": "execute_result"
    }
   ],
   "source": [
    "X_train.shape"
   ]
  },
  {
   "cell_type": "code",
   "execution_count": 52,
   "metadata": {
    "scrolled": true
   },
   "outputs": [
    {
     "data": {
      "text/plain": [
       "array([ True,  True,  True,  True,  True,  True,  True,  True,  True,\n",
       "        True,  True,  True,  True,  True,  True,  True,  True,  True,\n",
       "        True,  True])"
      ]
     },
     "execution_count": 52,
     "metadata": {},
     "output_type": "execute_result"
    }
   ],
   "source": [
    "X_kaggle.columns == X_train.columns"
   ]
  },
  {
   "cell_type": "code",
   "execution_count": 53,
   "metadata": {},
   "outputs": [],
   "source": [
    "kaggle_submission.to_csv('./kaggle/kaggle_submission_05.csv', index=False)"
   ]
  },
  {
   "cell_type": "markdown",
   "metadata": {},
   "source": [
    "## Let's cut it down even more"
   ]
  },
  {
   "cell_type": "code",
   "execution_count": 54,
   "metadata": {},
   "outputs": [],
   "source": [
    "X_coefs = [i for i in coef_dict if abs(coef_dict[i]) > 1000]\n",
    "feature_list_coefs = []\n",
    "for key in X_coefs:\n",
    "    feature_list_coefs.append(key)"
   ]
  },
  {
   "cell_type": "code",
   "execution_count": 55,
   "metadata": {},
   "outputs": [],
   "source": [
    "X = df_train[feature_list_coefs]\n",
    "y = df_train['SalePrice']\n",
    "\n",
    "X_train, X_test, y_train, y_test = train_test_split(X,y, random_state= 21)\n",
    "\n",
    "lr = LinearRegression()"
   ]
  },
  {
   "cell_type": "code",
   "execution_count": 56,
   "metadata": {},
   "outputs": [
    {
     "data": {
      "text/plain": [
       "(0.8260516906085296, 0.8201096017670707)"
      ]
     },
     "execution_count": 56,
     "metadata": {},
     "output_type": "execute_result"
    }
   ],
   "source": [
    "lr.fit(X_train,y_train)\n",
    "lr.score(X_train, y_train), lr.score(X_test, y_test)"
   ]
  },
  {
   "cell_type": "code",
   "execution_count": 57,
   "metadata": {
    "scrolled": true
   },
   "outputs": [
    {
     "data": {
      "text/plain": [
       "array([0.82776865, 0.80489432, 0.8345306 , 0.82112992, 0.81087225])"
      ]
     },
     "execution_count": 57,
     "metadata": {},
     "output_type": "execute_result"
    }
   ],
   "source": [
    "cross_val_score(lr, X_train, y_train, cv=5)"
   ]
  },
  {
   "cell_type": "code",
   "execution_count": 58,
   "metadata": {},
   "outputs": [
    {
     "data": {
      "text/plain": [
       "0.8198391471423726"
      ]
     },
     "execution_count": 58,
     "metadata": {},
     "output_type": "execute_result"
    }
   ],
   "source": [
    "cross_val_score(lr, X_train, y_train, cv=5).mean()"
   ]
  },
  {
   "cell_type": "code",
   "execution_count": 59,
   "metadata": {},
   "outputs": [
    {
     "data": {
      "text/plain": [
       "0.010808653511456674"
      ]
     },
     "execution_count": 59,
     "metadata": {},
     "output_type": "execute_result"
    }
   ],
   "source": [
    "cross_val_score(lr, X_train, y_train, cv=5).std()"
   ]
  },
  {
   "cell_type": "code",
   "execution_count": 60,
   "metadata": {},
   "outputs": [],
   "source": [
    "predictions = lr.predict(X_test)"
   ]
  },
  {
   "cell_type": "code",
   "execution_count": 61,
   "metadata": {},
   "outputs": [
    {
     "data": {
      "text/plain": [
       "33483.4623142055"
      ]
     },
     "execution_count": 61,
     "metadata": {},
     "output_type": "execute_result"
    }
   ],
   "source": [
    "np.sqrt(mean_squared_error(y_test, predictions))"
   ]
  },
  {
   "cell_type": "markdown",
   "metadata": {},
   "source": [
    "Going from features with a coefficient that change the value from \\\\$100 to over \\\\$1000 decreases the accuracy from being about \\\\$31500 off to being about \\\\$33500 off. Both have a mean cross val score of 0.82 with a standard deviation of 0.01, so it seems that the variance didn't change in this case by removing features."
   ]
  },
  {
   "cell_type": "markdown",
   "metadata": {},
   "source": [
    "### Trying out just categories with 'Quality' in the title "
   ]
  },
  {
   "cell_type": "code",
   "execution_count": 62,
   "metadata": {},
   "outputs": [],
   "source": [
    "df_train.columns;"
   ]
  },
  {
   "cell_type": "code",
   "execution_count": 63,
   "metadata": {},
   "outputs": [],
   "source": [
    "qual_list = [i for i in df_train.columns.values if 'Qual' in i]"
   ]
  },
  {
   "cell_type": "code",
   "execution_count": 64,
   "metadata": {},
   "outputs": [],
   "source": [
    "X_qual = df_train[qual_list]"
   ]
  },
  {
   "cell_type": "code",
   "execution_count": 65,
   "metadata": {
    "scrolled": false
   },
   "outputs": [
    {
     "data": {
      "text/plain": [
       "array(['Gd', 'TA', 'Fa', 'Ex'], dtype=object)"
      ]
     },
     "execution_count": 65,
     "metadata": {},
     "output_type": "execute_result"
    }
   ],
   "source": [
    "df_train['Kitchen Qual'].unique()"
   ]
  },
  {
   "cell_type": "code",
   "execution_count": 66,
   "metadata": {},
   "outputs": [],
   "source": [
    "df_train['Kitchen Qual'] = df_train['Kitchen Qual'].map({'Ex' : 5, 'Gd' : 4, 'TA' : 3, 'Fa': 2})"
   ]
  },
  {
   "cell_type": "code",
   "execution_count": 67,
   "metadata": {},
   "outputs": [],
   "source": [
    "df_test['Kitchen Qual'] = df_test['Kitchen Qual'].map({'Ex' : 5, 'Gd' : 4, 'TA' : 3, 'Fa': 2})"
   ]
  },
  {
   "cell_type": "code",
   "execution_count": 68,
   "metadata": {},
   "outputs": [
    {
     "data": {
      "text/plain": [
       "array(['Gd', 'TA', 'Ex', 'Fa'], dtype=object)"
      ]
     },
     "execution_count": 68,
     "metadata": {},
     "output_type": "execute_result"
    }
   ],
   "source": [
    "df_train['Exter Qual'].unique()"
   ]
  },
  {
   "cell_type": "code",
   "execution_count": 69,
   "metadata": {},
   "outputs": [],
   "source": [
    "df_train['Garage Qual'] = df_train['Garage Qual'].replace('None',0)"
   ]
  },
  {
   "cell_type": "code",
   "execution_count": 70,
   "metadata": {},
   "outputs": [],
   "source": [
    "df_test['Garage Qual'] = df_test['Garage Qual'].replace('None',0)"
   ]
  },
  {
   "cell_type": "code",
   "execution_count": 71,
   "metadata": {},
   "outputs": [],
   "source": [
    "df_train['Garage Qual'];"
   ]
  },
  {
   "cell_type": "code",
   "execution_count": 72,
   "metadata": {},
   "outputs": [],
   "source": [
    "df_train['Exter Qual'] = df_train['Exter Qual'].map({'Ex' : 5, 'Gd' : 4, 'TA' : 3, 'Fa': 2})"
   ]
  },
  {
   "cell_type": "code",
   "execution_count": 73,
   "metadata": {},
   "outputs": [],
   "source": [
    "df_test['Exter Qual'] = df_test['Exter Qual'].map({'Ex' : 5, 'Gd' : 4, 'TA' : 3, 'Fa': 2})"
   ]
  },
  {
   "cell_type": "code",
   "execution_count": 74,
   "metadata": {},
   "outputs": [],
   "source": [
    "df_train['Exter Qual'].fillna(0, inplace = True)"
   ]
  },
  {
   "cell_type": "code",
   "execution_count": 75,
   "metadata": {},
   "outputs": [],
   "source": [
    "df_test['Exter Qual'].fillna(0, inplace = True)"
   ]
  },
  {
   "cell_type": "code",
   "execution_count": 76,
   "metadata": {
    "scrolled": true
   },
   "outputs": [
    {
     "data": {
      "text/plain": [
       "(0.7343438592648897, 0.7404165330607153)"
      ]
     },
     "execution_count": 76,
     "metadata": {},
     "output_type": "execute_result"
    }
   ],
   "source": [
    "X_qual = df_train[qual_list]\n",
    "y = df_train['SalePrice']\n",
    "\n",
    "X_train, X_test, y_train, y_test = train_test_split(X_qual,y, random_state= 21)\n",
    "\n",
    "lr = LinearRegression()\n",
    "\n",
    "lr.fit(X_train,y_train)\n",
    "lr.score(X_train, y_train), lr.score(X_test, y_test)"
   ]
  },
  {
   "cell_type": "code",
   "execution_count": 77,
   "metadata": {},
   "outputs": [],
   "source": [
    "predictions = lr.predict(X_test)"
   ]
  },
  {
   "cell_type": "code",
   "execution_count": 78,
   "metadata": {},
   "outputs": [
    {
     "data": {
      "text/plain": [
       "40222.11301445915"
      ]
     },
     "execution_count": 78,
     "metadata": {},
     "output_type": "execute_result"
    }
   ],
   "source": [
    "np.sqrt(mean_squared_error(y_test, predictions))"
   ]
  },
  {
   "cell_type": "code",
   "execution_count": 79,
   "metadata": {
    "scrolled": true
   },
   "outputs": [
    {
     "data": {
      "text/plain": [
       "{'Overall Qual': -23377.889206390428,\n",
       " 'Exter Qual': 11778.57525393019,\n",
       " 'Bsmt Qual': -4596.282365017922,\n",
       " 'Low Qual Fin SF': 16.1089323886315,\n",
       " 'Kitchen Qual': 20363.307273212984,\n",
       " 'Garage Qual': 4204.008490538904,\n",
       " 'Overall Qual **2': 4472.773089608974}"
      ]
     },
     "execution_count": 79,
     "metadata": {},
     "output_type": "execute_result"
    }
   ],
   "source": [
    "dict(zip(X_qual.columns, lr.coef_))"
   ]
  },
  {
   "cell_type": "code",
   "execution_count": 80,
   "metadata": {},
   "outputs": [],
   "source": [
    "df_train.to_csv('./datasets/train_clean_outlier.csv', index = False)"
   ]
  },
  {
   "cell_type": "markdown",
   "metadata": {},
   "source": [
    "### Comments:\n",
    "\n",
    "Using just the features that focus on Quality has a RMSE of about \\\\$40000. It's not great on it's own so in the next notebook I'll combine the above with other features to come up with a working model."
   ]
  },
  {
   "cell_type": "markdown",
   "metadata": {},
   "source": [
    "## Using Lasso to pick Features"
   ]
  },
  {
   "cell_type": "code",
   "execution_count": 81,
   "metadata": {},
   "outputs": [],
   "source": [
    "ss = StandardScaler()"
   ]
  },
  {
   "cell_type": "code",
   "execution_count": 82,
   "metadata": {
    "scrolled": true
   },
   "outputs": [
    {
     "name": "stdout",
     "output_type": "stream",
     "text": [
      "<class 'pandas.core.frame.DataFrame'>\n",
      "Int64Index: 2049 entries, 0 to 2050\n",
      "Data columns (total 86 columns):\n",
      " #   Column             Non-Null Count  Dtype  \n",
      "---  ------             --------------  -----  \n",
      " 0   Id                 2049 non-null   int64  \n",
      " 1   PID                2049 non-null   int64  \n",
      " 2   MS SubClass        2049 non-null   int64  \n",
      " 3   MS Zoning          2049 non-null   object \n",
      " 4   Lot Frontage       2049 non-null   float64\n",
      " 5   Lot Area           2049 non-null   int64  \n",
      " 6   Street             2049 non-null   object \n",
      " 7   Alley              2049 non-null   object \n",
      " 8   Lot Shape          2049 non-null   object \n",
      " 9   Land Contour       2049 non-null   object \n",
      " 10  Utilities          2049 non-null   object \n",
      " 11  Lot Config         2049 non-null   object \n",
      " 12  Land Slope         2049 non-null   object \n",
      " 13  Neighborhood       2049 non-null   object \n",
      " 14  Condition 1        2049 non-null   object \n",
      " 15  Condition 2        2049 non-null   object \n",
      " 16  Bldg Type          2049 non-null   object \n",
      " 17  House Style        2049 non-null   object \n",
      " 18  Overall Qual       2049 non-null   int64  \n",
      " 19  Overall Cond       2049 non-null   int64  \n",
      " 20  Year Built         2049 non-null   int64  \n",
      " 21  Year Remod/Add     2049 non-null   int64  \n",
      " 22  Roof Style         2049 non-null   object \n",
      " 23  Roof Matl          2049 non-null   object \n",
      " 24  Exterior 1st       2049 non-null   object \n",
      " 25  Exterior 2nd       2049 non-null   object \n",
      " 26  Mas Vnr Type       2049 non-null   object \n",
      " 27  Mas Vnr Area       2049 non-null   float64\n",
      " 28  Exter Qual         2049 non-null   int64  \n",
      " 29  Exter Cond         2049 non-null   object \n",
      " 30  Foundation         2049 non-null   object \n",
      " 31  Bsmt Qual          2049 non-null   float64\n",
      " 32  Bsmt Cond          2049 non-null   float64\n",
      " 33  Bsmt Exposure      2049 non-null   object \n",
      " 34  BsmtFin Type 1     2049 non-null   object \n",
      " 35  BsmtFin SF 1       2049 non-null   float64\n",
      " 36  BsmtFin Type 2     2049 non-null   object \n",
      " 37  BsmtFin SF 2       2049 non-null   float64\n",
      " 38  Bsmt Unf SF        2049 non-null   float64\n",
      " 39  Total Bsmt SF      2049 non-null   float64\n",
      " 40  Heating            2049 non-null   object \n",
      " 41  Heating QC         2049 non-null   object \n",
      " 42  Central Air        2049 non-null   object \n",
      " 43  Electrical         2049 non-null   object \n",
      " 44  1st Flr SF         2049 non-null   int64  \n",
      " 45  2nd Flr SF         2049 non-null   int64  \n",
      " 46  Low Qual Fin SF    2049 non-null   int64  \n",
      " 47  Gr Liv Area        2049 non-null   int64  \n",
      " 48  Bsmt Full Bath     2049 non-null   float64\n",
      " 49  Bsmt Half Bath     2049 non-null   float64\n",
      " 50  Full Bath          2049 non-null   int64  \n",
      " 51  Half Bath          2049 non-null   int64  \n",
      " 52  Bedroom AbvGr      2049 non-null   int64  \n",
      " 53  Kitchen AbvGr      2049 non-null   int64  \n",
      " 54  Kitchen Qual       2049 non-null   int64  \n",
      " 55  TotRms AbvGrd      2049 non-null   int64  \n",
      " 56  Functional         2049 non-null   object \n",
      " 57  Fireplaces         2049 non-null   int64  \n",
      " 58  Fireplace Qu       2049 non-null   float64\n",
      " 59  Garage Type        2049 non-null   object \n",
      " 60  Garage Yr Blt      2049 non-null   float64\n",
      " 61  Garage Finish      2049 non-null   int64  \n",
      " 62  Garage Cars        2049 non-null   float64\n",
      " 63  Garage Area        2049 non-null   float64\n",
      " 64  Garage Qual        2049 non-null   object \n",
      " 65  Garage Cond        2049 non-null   object \n",
      " 66  Paved Drive        2049 non-null   object \n",
      " 67  Wood Deck SF       2049 non-null   int64  \n",
      " 68  Open Porch SF      2049 non-null   int64  \n",
      " 69  Enclosed Porch     2049 non-null   int64  \n",
      " 70  3Ssn Porch         2049 non-null   int64  \n",
      " 71  Screen Porch       2049 non-null   int64  \n",
      " 72  Pool Area          2049 non-null   int64  \n",
      " 73  Pool QC            8 non-null      object \n",
      " 74  Fence              400 non-null    object \n",
      " 75  Misc Feature       64 non-null     object \n",
      " 76  Misc Val           2049 non-null   int64  \n",
      " 77  Mo Sold            2049 non-null   int64  \n",
      " 78  Yr Sold            2049 non-null   int64  \n",
      " 79  Sale Type          2049 non-null   object \n",
      " 80  SalePrice          2049 non-null   int64  \n",
      " 81  BsmtFin SF 1 **2   2049 non-null   float64\n",
      " 82  Total Bsmt SF **2  2049 non-null   float64\n",
      " 83  Gr Liv Area **2    2049 non-null   int64  \n",
      " 84  Garage Yr Blt **2  2049 non-null   float64\n",
      " 85  Overall Qual **2   2049 non-null   int64  \n",
      "dtypes: float64(17), int64(33), object(36)\n",
      "memory usage: 1.4+ MB\n"
     ]
    }
   ],
   "source": [
    "df_train.info();"
   ]
  },
  {
   "cell_type": "code",
   "execution_count": 83,
   "metadata": {},
   "outputs": [],
   "source": [
    "df_train = pd.get_dummies(data = df_train, columns = ['Land Contour', 'Land Slope', 'Neighborhood', 'Condition 1', 'Condition 2', 'House Style'], drop_first = True)"
   ]
  },
  {
   "cell_type": "code",
   "execution_count": 84,
   "metadata": {},
   "outputs": [],
   "source": [
    "df_test = pd.get_dummies(data = df_test, columns = ['Land Contour', 'Land Slope', 'Neighborhood', 'Condition 1', 'Condition 2', 'House Style'], drop_first = True)"
   ]
  },
  {
   "cell_type": "code",
   "execution_count": 85,
   "metadata": {},
   "outputs": [],
   "source": [
    "df_train['Garage Cond'].replace('None', 0, inplace = True)"
   ]
  },
  {
   "cell_type": "code",
   "execution_count": 86,
   "metadata": {},
   "outputs": [],
   "source": [
    "df_test['Garage Cond'].replace('None', 0, inplace = True)"
   ]
  },
  {
   "cell_type": "code",
   "execution_count": 87,
   "metadata": {},
   "outputs": [],
   "source": [
    "df_train['Garage Qual'] = df_train['Garage Qual'].astype(float)"
   ]
  },
  {
   "cell_type": "code",
   "execution_count": 88,
   "metadata": {},
   "outputs": [],
   "source": [
    "df_test['Garage Qual'] = df_test['Garage Qual'].astype(float)"
   ]
  },
  {
   "cell_type": "code",
   "execution_count": 89,
   "metadata": {},
   "outputs": [],
   "source": [
    "df_train['Exter Cond'] = df_train['Exter Cond'].map({'Ex' : 5, 'Gd' : 4, 'TA' : 3, 'Fa': 2, 'Po' : 1})"
   ]
  },
  {
   "cell_type": "code",
   "execution_count": 90,
   "metadata": {},
   "outputs": [],
   "source": [
    "df_test['Exter Cond'] = df_test['Exter Cond'].map({'Ex' : 5, 'Gd' : 4, 'TA' : 3, 'Fa': 2, 'Po' : 1})"
   ]
  },
  {
   "cell_type": "code",
   "execution_count": 91,
   "metadata": {},
   "outputs": [],
   "source": [
    "X_train_allcols = df_train.drop(columns = ['SalePrice',\n",
    "                                           'Sale Type',\n",
    "                                           'MS Zoning',\n",
    "                                           'Street',\n",
    "                                           'Alley',\n",
    "                                           'Lot Shape',\n",
    "                                           'Utilities',\n",
    "                                           'Lot Config',\n",
    "                                           'Pool QC',\n",
    "                                           'Bldg Type',\n",
    "                                           'Roof Style',\n",
    "                                           'Roof Matl',\n",
    "                                           'Mas Vnr Type',\n",
    "                                           'Mas Vnr Area',\n",
    "                                           'Exterior 1st',\n",
    "                                           'Exterior 2nd',\n",
    "                                           'Foundation',\n",
    "                                           'Bsmt Exposure',\n",
    "                                           'BsmtFin Type 1',\n",
    "                                           'BsmtFin Type 2',\n",
    "                                           'Heating',\n",
    "                                           'Heating QC',\n",
    "                                           'Central Air',\n",
    "                                           'Electrical',\n",
    "                                           'Functional',\n",
    "                                           'Garage Type',\n",
    "                                           'Fence',\n",
    "                                           'Paved Drive',\n",
    "                                           'Misc Feature'])\n",
    "y_train = df_train['SalePrice']"
   ]
  },
  {
   "cell_type": "code",
   "execution_count": 92,
   "metadata": {},
   "outputs": [],
   "source": [
    "X_train, X_test, y_train, y_test = train_test_split(X_train_allcols,y, random_state= 21)"
   ]
  },
  {
   "cell_type": "code",
   "execution_count": 93,
   "metadata": {
    "scrolled": true
   },
   "outputs": [],
   "source": [
    "Z_train = ss.fit_transform(X_train)\n",
    "Z_test = ss.transform(X_test)"
   ]
  },
  {
   "cell_type": "code",
   "execution_count": 94,
   "metadata": {},
   "outputs": [],
   "source": [
    "l_alphas = np.logspace(-3, 0, 100)"
   ]
  },
  {
   "cell_type": "code",
   "execution_count": 95,
   "metadata": {},
   "outputs": [
    {
     "data": {
      "text/plain": [
       "array([0.001     , 0.00107227, 0.00114976, 0.00123285, 0.00132194,\n",
       "       0.00141747, 0.00151991, 0.00162975, 0.00174753, 0.00187382,\n",
       "       0.00200923, 0.00215443, 0.00231013, 0.00247708, 0.00265609,\n",
       "       0.00284804, 0.00305386, 0.00327455, 0.00351119, 0.00376494,\n",
       "       0.00403702, 0.00432876, 0.00464159, 0.00497702, 0.0053367 ,\n",
       "       0.00572237, 0.00613591, 0.00657933, 0.0070548 , 0.00756463,\n",
       "       0.00811131, 0.00869749, 0.00932603, 0.01      , 0.01072267,\n",
       "       0.01149757, 0.01232847, 0.01321941, 0.01417474, 0.01519911,\n",
       "       0.01629751, 0.01747528, 0.01873817, 0.02009233, 0.02154435,\n",
       "       0.0231013 , 0.02477076, 0.02656088, 0.02848036, 0.03053856,\n",
       "       0.03274549, 0.03511192, 0.03764936, 0.04037017, 0.04328761,\n",
       "       0.04641589, 0.04977024, 0.05336699, 0.05722368, 0.06135907,\n",
       "       0.06579332, 0.07054802, 0.07564633, 0.08111308, 0.0869749 ,\n",
       "       0.09326033, 0.1       , 0.10722672, 0.1149757 , 0.12328467,\n",
       "       0.13219411, 0.14174742, 0.15199111, 0.16297508, 0.17475284,\n",
       "       0.18738174, 0.2009233 , 0.21544347, 0.23101297, 0.24770764,\n",
       "       0.26560878, 0.28480359, 0.30538555, 0.32745492, 0.35111917,\n",
       "       0.37649358, 0.40370173, 0.43287613, 0.46415888, 0.49770236,\n",
       "       0.53366992, 0.57223677, 0.61359073, 0.65793322, 0.70548023,\n",
       "       0.75646333, 0.81113083, 0.869749  , 0.93260335, 1.        ])"
      ]
     },
     "execution_count": 95,
     "metadata": {},
     "output_type": "execute_result"
    }
   ],
   "source": [
    "l_alphas"
   ]
  },
  {
   "cell_type": "code",
   "execution_count": 96,
   "metadata": {
    "scrolled": true
   },
   "outputs": [],
   "source": [
    "# Cross-validate over our list of Lasso alphas.\n",
    "lasso_cv = LassoCV(alphas=l_alphas, cv=5, max_iter=50000)\n",
    "\n",
    "# Fit model using best ridge alpha!\n",
    "lasso_cv.fit(Z_train, y_train);"
   ]
  },
  {
   "cell_type": "code",
   "execution_count": 97,
   "metadata": {},
   "outputs": [
    {
     "data": {
      "text/plain": [
       "1.0"
      ]
     },
     "execution_count": 97,
     "metadata": {},
     "output_type": "execute_result"
    }
   ],
   "source": [
    "lasso_cv.alpha_"
   ]
  },
  {
   "cell_type": "code",
   "execution_count": 98,
   "metadata": {},
   "outputs": [
    {
     "name": "stdout",
     "output_type": "stream",
     "text": [
      "0.9287476827944265\n",
      "0.9279389936230953\n"
     ]
    }
   ],
   "source": [
    "print(lasso_cv.score(Z_train, y_train))\n",
    "print(lasso_cv.score(Z_test, y_test))"
   ]
  },
  {
   "cell_type": "code",
   "execution_count": 99,
   "metadata": {},
   "outputs": [],
   "source": [
    "lasso_coef_dict = dict(zip(X_train.columns, lasso_cv.coef_))"
   ]
  },
  {
   "cell_type": "code",
   "execution_count": 100,
   "metadata": {},
   "outputs": [],
   "source": [
    "predictions_lasso = lasso_cv.predict(Z_test)"
   ]
  },
  {
   "cell_type": "code",
   "execution_count": 101,
   "metadata": {},
   "outputs": [
    {
     "data": {
      "text/plain": [
       "21192.223679835977"
      ]
     },
     "execution_count": 101,
     "metadata": {},
     "output_type": "execute_result"
    }
   ],
   "source": [
    "np.sqrt(mean_squared_error(y_test, predictions_lasso))"
   ]
  },
  {
   "cell_type": "markdown",
   "metadata": {},
   "source": [
    "## Comments on the Lasso:\n",
    "\n",
    "Getting a RMSE of about \\\\$21200 is right about the same as the \\\\$21500 that I calculated at the top of the notebook. Next I will do a final save of the csv files and kaggle submission before moving on to the final test, which is using the features chosen by the Lasso, run a straight Linear Regression to be able to interpret the coefficients. Since the LassoCV also gave an alpha of 1, I'm hoping that the scores can move up a smidge since the penalty would also be removed in a standard linear regression."
   ]
  },
  {
   "cell_type": "markdown",
   "metadata": {},
   "source": [
    "### Kaggle Submission:"
   ]
  },
  {
   "cell_type": "code",
   "execution_count": 102,
   "metadata": {},
   "outputs": [],
   "source": [
    "df_test['Kitchen Qual'].fillna(3, inplace = True)"
   ]
  },
  {
   "cell_type": "code",
   "execution_count": 103,
   "metadata": {},
   "outputs": [],
   "source": [
    "df_train.to_csv('./datasets/train_lasso.csv', index = False)\n",
    "df_test.to_csv('./datasets/test_lasso.csv', index = False)"
   ]
  },
  {
   "cell_type": "code",
   "execution_count": 104,
   "metadata": {},
   "outputs": [
    {
     "data": {
      "text/plain": [
       "((878, 2), (878, 133))"
      ]
     },
     "execution_count": 104,
     "metadata": {},
     "output_type": "execute_result"
    }
   ],
   "source": [
    "for column in X_train.columns:\n",
    "    if column not in df_test.columns:\n",
    "        df_test[column] = 0\n",
    "X_kaggle = df_test[X_train.columns]\n",
    "Z_kaggle = ss.transform(X_kaggle)\n",
    "kaggle_predictions = lasso_cv.predict(X_kaggle)\n",
    "kaggle_submission = pd.DataFrame()\n",
    "\n",
    "kaggle_submission['Id'] = df_test['Id']\n",
    "kaggle_submission['SalePrice'] = kaggle_predictions\n",
    "\n",
    "kaggle_submission.head()\n",
    "kaggle_submission.shape, df_test.shape"
   ]
  },
  {
   "cell_type": "code",
   "execution_count": 105,
   "metadata": {},
   "outputs": [],
   "source": [
    "kaggle_submission.to_csv('./kaggle/kaggle_submission_lasso.csv', index=False)"
   ]
  },
  {
   "cell_type": "markdown",
   "metadata": {},
   "source": [
    "## Linear Regression using features from Lasso"
   ]
  },
  {
   "cell_type": "code",
   "execution_count": 106,
   "metadata": {},
   "outputs": [],
   "source": [
    "lasso_col_list = X_train.columns"
   ]
  },
  {
   "cell_type": "code",
   "execution_count": 107,
   "metadata": {},
   "outputs": [],
   "source": [
    "X = df_train[lasso_col_list].drop(columns = ['Id', 'PID'])\n",
    "y = df_train['SalePrice']\n",
    "\n",
    "X_train, X_test, y_train, y_test = train_test_split(X,y, random_state= 21)"
   ]
  },
  {
   "cell_type": "code",
   "execution_count": 108,
   "metadata": {},
   "outputs": [
    {
     "data": {
      "text/plain": [
       "True"
      ]
     },
     "execution_count": 108,
     "metadata": {},
     "output_type": "execute_result"
    }
   ],
   "source": [
    "[i for i in X.columns.values if 'Qual' in i] == qual_list"
   ]
  },
  {
   "cell_type": "code",
   "execution_count": 109,
   "metadata": {},
   "outputs": [],
   "source": [
    "lr = LinearRegression()"
   ]
  },
  {
   "cell_type": "code",
   "execution_count": 110,
   "metadata": {},
   "outputs": [
    {
     "data": {
      "text/plain": [
       "LinearRegression()"
      ]
     },
     "execution_count": 110,
     "metadata": {},
     "output_type": "execute_result"
    }
   ],
   "source": [
    "lr.fit(X_train,y_train)"
   ]
  },
  {
   "cell_type": "code",
   "execution_count": 111,
   "metadata": {},
   "outputs": [
    {
     "data": {
      "text/plain": [
       "(0.92858734531632, 0.92805473016026)"
      ]
     },
     "execution_count": 111,
     "metadata": {},
     "output_type": "execute_result"
    }
   ],
   "source": [
    "lr.score(X_train, y_train), lr.score(X_test, y_test)"
   ]
  },
  {
   "cell_type": "code",
   "execution_count": 112,
   "metadata": {
    "scrolled": true
   },
   "outputs": [
    {
     "data": {
      "text/plain": [
       "array([0.89959193, 0.91302086, 0.91933905, 0.90474132, 0.89476358])"
      ]
     },
     "execution_count": 112,
     "metadata": {},
     "output_type": "execute_result"
    }
   ],
   "source": [
    "cross_val_score(lr, X_train, y_train, cv=5)"
   ]
  },
  {
   "cell_type": "code",
   "execution_count": 113,
   "metadata": {},
   "outputs": [
    {
     "data": {
      "text/plain": [
       "21175.198520743197"
      ]
     },
     "execution_count": 113,
     "metadata": {},
     "output_type": "execute_result"
    }
   ],
   "source": [
    "predictions = lr.predict(X_test)\n",
    "np.sqrt(mean_squared_error(y_test, predictions))"
   ]
  },
  {
   "cell_type": "code",
   "execution_count": 114,
   "metadata": {},
   "outputs": [],
   "source": [
    "dict(zip(X.columns, lr.coef_));"
   ]
  },
  {
   "cell_type": "markdown",
   "metadata": {},
   "source": [
    "## This is my final model for optimizing RMSE. \n",
    "\n",
    "It contains all the features with the term 'Quality' and has the best RMSE score in the notebooks of about \\\\$21200. It also takes into account Neighborhoods, which the previous iterations took location out of the equation. Which is fine when generalizing Ames, Iowa; but when trying to be more accurate with price it would obviously help to take Neighborhood into account, as seen in the latest model.\n",
    "\n",
    "When neighborhood is taken into account, it clearly affects the price the most, even more than 'Quality' features that a homeowner or architect can improve."
   ]
  },
  {
   "cell_type": "code",
   "execution_count": 115,
   "metadata": {},
   "outputs": [
    {
     "data": {
      "text/plain": [
       "((878, 2), (878, 133))"
      ]
     },
     "execution_count": 115,
     "metadata": {},
     "output_type": "execute_result"
    }
   ],
   "source": [
    "X_kaggle = df_test[X.columns]\n",
    "\n",
    "kaggle_predictions = lr.predict(X_kaggle)\n",
    "kaggle_submission = pd.DataFrame()\n",
    "\n",
    "kaggle_submission['Id'] = df_test['Id']\n",
    "kaggle_submission['SalePrice'] = kaggle_predictions\n",
    "\n",
    "kaggle_submission.head()\n",
    "kaggle_submission.shape, df_test.shape"
   ]
  },
  {
   "cell_type": "code",
   "execution_count": 116,
   "metadata": {},
   "outputs": [],
   "source": [
    "kaggle_submission.to_csv('./kaggle/kaggle_submission_lr5.csv', index=False)"
   ]
  },
  {
   "cell_type": "code",
   "execution_count": null,
   "metadata": {},
   "outputs": [],
   "source": []
  }
 ],
 "metadata": {
  "kernelspec": {
   "display_name": "Python 3",
   "language": "python",
   "name": "python3"
  },
  "language_info": {
   "codemirror_mode": {
    "name": "ipython",
    "version": 3
   },
   "file_extension": ".py",
   "mimetype": "text/x-python",
   "name": "python",
   "nbconvert_exporter": "python",
   "pygments_lexer": "ipython3",
   "version": "3.8.5"
  }
 },
 "nbformat": 4,
 "nbformat_minor": 4
}
